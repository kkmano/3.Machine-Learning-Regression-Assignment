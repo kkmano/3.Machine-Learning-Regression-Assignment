{
 "cells": [
  {
   "cell_type": "code",
   "execution_count": 1,
   "id": "7fbe6ce3-7eab-4761-8617-63c74df9075d",
   "metadata": {},
   "outputs": [],
   "source": [
    "import pickle"
   ]
  },
  {
   "cell_type": "code",
   "execution_count": 4,
   "id": "44fb5e43-949b-410e-8e1f-bbef440863b6",
   "metadata": {},
   "outputs": [],
   "source": [
    "loaded_model=pickle.load(open('final_linear_model.sav','rb'))"
   ]
  },
  {
   "cell_type": "code",
   "execution_count": 5,
   "id": "dfbce15c-29d9-4693-8fe9-68686b584656",
   "metadata": {},
   "outputs": [
    {
     "name": "stderr",
     "output_type": "stream",
     "text": [
      "C:\\Anaconda3\\Lib\\site-packages\\sklearn\\base.py:493: UserWarning: X does not have valid feature names, but RandomForestRegressor was fitted with feature names\n",
      "  warnings.warn(\n"
     ]
    }
   ],
   "source": [
    "result=loaded_model.predict([[61,29.070,0,0,1]])"
   ]
  },
  {
   "cell_type": "code",
   "execution_count": 6,
   "id": "dc3c2c1b-8727-4ad4-b9b3-4a5e36547c50",
   "metadata": {},
   "outputs": [
    {
     "data": {
      "text/plain": [
       "array([28357.0959015])"
      ]
     },
     "execution_count": 6,
     "metadata": {},
     "output_type": "execute_result"
    }
   ],
   "source": [
    "result"
   ]
  },
  {
   "cell_type": "code",
   "execution_count": null,
   "id": "4d643f32-5e7a-4862-a820-8e18e0ec8aea",
   "metadata": {},
   "outputs": [],
   "source": []
  }
 ],
 "metadata": {
  "kernelspec": {
   "display_name": "Python 3 (ipykernel)",
   "language": "python",
   "name": "python3"
  },
  "language_info": {
   "codemirror_mode": {
    "name": "ipython",
    "version": 3
   },
   "file_extension": ".py",
   "mimetype": "text/x-python",
   "name": "python",
   "nbconvert_exporter": "python",
   "pygments_lexer": "ipython3",
   "version": "3.12.4"
  }
 },
 "nbformat": 4,
 "nbformat_minor": 5
}
