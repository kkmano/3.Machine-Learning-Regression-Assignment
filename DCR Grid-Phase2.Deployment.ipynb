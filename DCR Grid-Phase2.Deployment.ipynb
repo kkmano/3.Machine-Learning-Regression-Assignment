{
 "cells": [
  {
   "cell_type": "code",
   "execution_count": 1,
   "id": "778d07a4-defb-4102-8f7c-74a40499612d",
   "metadata": {},
   "outputs": [],
   "source": [
    "import pickle"
   ]
  },
  {
   "cell_type": "code",
   "execution_count": 2,
   "id": "34225c55-6837-4dca-b430-94ee61061da5",
   "metadata": {},
   "outputs": [],
   "source": [
    "loaded_model=pickle.load(open('final_model_DC.sav','rb'))"
   ]
  },
  {
   "cell_type": "code",
   "execution_count": 3,
   "id": "678cc1ed-6508-47b0-931a-5594e8c3f943",
   "metadata": {},
   "outputs": [],
   "source": [
    "result=loaded_model.predict([[29,26.5,0,1,1,]])"
   ]
  },
  {
   "cell_type": "code",
   "execution_count": 4,
   "id": "4b25651b-26c7-489a-932e-45d2812b0fa0",
   "metadata": {},
   "outputs": [
    {
     "data": {
      "text/plain": [
       "array([49577.6624])"
      ]
     },
     "execution_count": 4,
     "metadata": {},
     "output_type": "execute_result"
    }
   ],
   "source": [
    "result"
   ]
  },
  {
   "cell_type": "code",
   "execution_count": null,
   "id": "0a43b173-59bc-4c64-a0c6-2c6255f59cea",
   "metadata": {},
   "outputs": [],
   "source": []
  }
 ],
 "metadata": {
  "kernelspec": {
   "display_name": "Python 3 (ipykernel)",
   "language": "python",
   "name": "python3"
  },
  "language_info": {
   "codemirror_mode": {
    "name": "ipython",
    "version": 3
   },
   "file_extension": ".py",
   "mimetype": "text/x-python",
   "name": "python",
   "nbconvert_exporter": "python",
   "pygments_lexer": "ipython3",
   "version": "3.12.4"
  }
 },
 "nbformat": 4,
 "nbformat_minor": 5
}
