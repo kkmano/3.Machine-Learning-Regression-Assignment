{
 "cells": [
  {
   "cell_type": "code",
   "execution_count": 1,
   "id": "b3a04dbe-cafa-441f-be7e-d2760c4cbcdb",
   "metadata": {},
   "outputs": [],
   "source": [
    "import pickle"
   ]
  },
  {
   "cell_type": "code",
   "execution_count": 3,
   "id": "98bd98c7-340f-46a8-aab8-dd73dc1455dd",
   "metadata": {},
   "outputs": [],
   "source": [
    "loaded_model=pickle.load(open('final_model_RFR.sav','rb'))"
   ]
  },
  {
   "cell_type": "code",
   "execution_count": 4,
   "id": "549d161a-2d73-4945-a684-383965c9c178",
   "metadata": {},
   "outputs": [],
   "source": [
    "result=loaded_model.predict([[24,34,0,0,0]])"
   ]
  },
  {
   "cell_type": "code",
   "execution_count": 5,
   "id": "71a54402-1c28-4ea3-a513-1fa45c4782fa",
   "metadata": {},
   "outputs": [
    {
     "data": {
      "text/plain": [
       "array([15544.4581941])"
      ]
     },
     "execution_count": 5,
     "metadata": {},
     "output_type": "execute_result"
    }
   ],
   "source": [
    "result"
   ]
  },
  {
   "cell_type": "code",
   "execution_count": null,
   "id": "8b8913c7-a965-4fc3-9e1a-4048f6348967",
   "metadata": {},
   "outputs": [],
   "source": []
  }
 ],
 "metadata": {
  "kernelspec": {
   "display_name": "Python 3 (ipykernel)",
   "language": "python",
   "name": "python3"
  },
  "language_info": {
   "codemirror_mode": {
    "name": "ipython",
    "version": 3
   },
   "file_extension": ".py",
   "mimetype": "text/x-python",
   "name": "python",
   "nbconvert_exporter": "python",
   "pygments_lexer": "ipython3",
   "version": "3.12.4"
  }
 },
 "nbformat": 4,
 "nbformat_minor": 5
}
