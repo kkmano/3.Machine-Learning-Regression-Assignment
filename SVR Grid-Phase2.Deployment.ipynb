{
 "cells": [
  {
   "cell_type": "code",
   "execution_count": 1,
   "id": "e00be994-ca19-4d01-92da-a7eb9f9577f6",
   "metadata": {},
   "outputs": [],
   "source": [
    "import pickle\n"
   ]
  },
  {
   "cell_type": "code",
   "execution_count": 2,
   "id": "533897fb-da99-4eae-99ec-5c5788008d00",
   "metadata": {},
   "outputs": [],
   "source": [
    "loaded_model=pickle.load(open('Final_model_svr.sav','rb'))"
   ]
  },
  {
   "cell_type": "code",
   "execution_count": 3,
   "id": "978772b0-b05a-46f5-bad0-f6ce9595972e",
   "metadata": {},
   "outputs": [],
   "source": [
    "result=loaded_model.predict([[29,26,0,1,1]])"
   ]
  },
  {
   "cell_type": "code",
   "execution_count": 4,
   "id": "51ca987b-7e92-40d9-aed4-2d49940ee4be",
   "metadata": {},
   "outputs": [
    {
     "data": {
      "text/plain": [
       "array([3616454.72643123])"
      ]
     },
     "execution_count": 4,
     "metadata": {},
     "output_type": "execute_result"
    }
   ],
   "source": [
    "result"
   ]
  },
  {
   "cell_type": "code",
   "execution_count": null,
   "id": "3df88a39-8603-4a2d-959c-9b4d682b5ca8",
   "metadata": {},
   "outputs": [],
   "source": []
  }
 ],
 "metadata": {
  "kernelspec": {
   "display_name": "Python 3 (ipykernel)",
   "language": "python",
   "name": "python3"
  },
  "language_info": {
   "codemirror_mode": {
    "name": "ipython",
    "version": 3
   },
   "file_extension": ".py",
   "mimetype": "text/x-python",
   "name": "python",
   "nbconvert_exporter": "python",
   "pygments_lexer": "ipython3",
   "version": "3.12.4"
  }
 },
 "nbformat": 4,
 "nbformat_minor": 5
}
